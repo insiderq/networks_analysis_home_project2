{
 "cells": [
  {
   "cell_type": "markdown",
   "metadata": {},
   "source": [
    "# <center>Network Science</center>"
   ]
  },
  {
   "cell_type": "markdown",
   "metadata": {},
   "source": [
    "## <center/>Course Project #2"
   ]
  },
  {
   "cell_type": "markdown",
   "metadata": {},
   "source": [
    "### <center>Student: *Salnikov Alexander*</center>"
   ]
  },
  {
   "cell_type": "markdown",
   "metadata": {},
   "source": [
    "#### <hr /> General Information"
   ]
  },
  {
   "cell_type": "markdown",
   "metadata": {},
   "source": [
    "**Due Date:** 17.06.2016 23:59 <br \\>\n",
    "**Late submission policy:** no grade <br \\>\n",
    "\n",
    "\n",
    "Please send your reports to <mailto:network.hse.2016@gmail.com> with message subject of the following structure:<br \\> **[HSE Networks 2016] *Alexander* *Salnikov* Project*2***\n",
    "\n",
    "Support your computations with figures and comments. <br \\>\n",
    "If you are using IPython Notebook you may use this file as a starting point of your report.<br \\>\n",
    "<br \\>\n",
    "<hr \\>"
   ]
  },
  {
   "cell_type": "markdown",
   "metadata": {},
   "source": [
    "## Description"
   ]
  },
  {
   "cell_type": "markdown",
   "metadata": {},
   "source": [
    "### Data"
   ]
  },
  {
   "cell_type": "markdown",
   "metadata": {},
   "source": [
    "As a dataset to analyse you can choose one option in the following list:\n",
    "1. Real Dataset (can be found [here](http://snap.stanford.edu/) or [here](http://konect.uni-koblenz.de/networks/))\n",
    "2. Generated Dataset. Use more complex structure rather than just a simple ER model. For instance, you may consider multilevel network, where on the lower level you have several Watts-Strogatz graphs and on the upper level these graphs are respesented as randomly connected nodes.\n",
    "3. Your data mined from Social Networks, Twitter, LiveJournal e.t.c.\n",
    "\n",
    "**The order of your dataset should be no less than $10^4$ nodes**"
   ]
  },
  {
   "cell_type": "markdown",
   "metadata": {},
   "source": [
    "### Models"
   ]
  },
  {
   "cell_type": "markdown",
   "metadata": {},
   "source": [
    "Consider one of the following models:\n",
    "1. SIR-based (or another with more than 3 letters) epidemic model\n",
    "2. Independent Cascade Model\n",
    "3. Linear Threshold Model"
   ]
  },
  {
   "cell_type": "markdown",
   "metadata": {},
   "source": [
    "### Tasks"
   ]
  },
  {
   "cell_type": "markdown",
   "metadata": {},
   "source": [
    "#### Network Descriptive Analysis"
   ]
  },
  {
   "cell_type": "markdown",
   "metadata": {},
   "source": [
    "Provide information on your netowork: Source, Descriptive Statistics, Visualization"
   ]
  },
  {
   "cell_type": "markdown",
   "metadata": {},
   "source": [
    "Chosen dataset is http://konect.uni-koblenz.de/networks/ego-twitter. This directed networks contains Twitter user–user following information. A node represents a user. An edge indicates that the user represented by the left node follows the user represented by the right node."
   ]
  },
  {
   "cell_type": "markdown",
   "metadata": {},
   "source": [
    "Since the project is specific to time of execution let's install an ipython extensions that shows time of execution of every cell"
   ]
  },
  {
   "cell_type": "code",
   "execution_count": 162,
   "metadata": {
    "collapsed": false
   },
   "outputs": [
    {
     "name": "stdout",
     "output_type": "stream",
     "text": [
      "The autotime extension is already loaded. To reload it, use:\n",
      "  %reload_ext autotime\n",
      "time: 3.13 ms\n"
     ]
    }
   ],
   "source": [
    "%install_ext https://raw.github.com/cpcloud/ipython-autotime/master/autotime.py\n",
    "%load_ext autotime"
   ]
  },
  {
   "cell_type": "markdown",
   "metadata": {},
   "source": [
    "Now let's import this network as a graph and provide some initial descriptive analyics."
   ]
  },
  {
   "cell_type": "code",
   "execution_count": 209,
   "metadata": {
    "collapsed": false
   },
   "outputs": [
    {
     "name": "stdout",
     "output_type": "stream",
     "text": [
      "time: 14.1 s\n"
     ]
    }
   ],
   "source": [
    "import numpy as np\n",
    "import networkx as nx\n",
    "import matplotlib.pyplot as plt\n",
    "%matplotlib inline\n",
    "\n",
    "G = nx.read_edgelist(\"out.ego-twitter\", delimiter=\" \",comments=\"%\",nodetype=int)\n",
    "\n",
    "A = np.array(nx.adjacency_matrix(G).todense())\n",
    "n = A.shape[0]\n",
    "deg = np.sum(A,axis=0, dtype=float) # scope out\n"
   ]
  },
  {
   "cell_type": "code",
   "execution_count": 218,
   "metadata": {
    "collapsed": false
   },
   "outputs": [
    {
     "name": "stdout",
     "output_type": "stream",
     "text": [
      "Total number of nodes: 23370\n",
      "Total number of edges: 32831\n",
      "Max node degree: 238\n",
      "Average node degree: 2.809670517757809\n",
      "\n",
      "\n",
      "PDF and cCDF of graph respectfully\n"
     ]
    },
    {
     "data": {
      "text/plain": [
       "[<matplotlib.lines.Line2D at 0x115cf2940>]"
      ]
     },
     "execution_count": 218,
     "metadata": {},
     "output_type": "execute_result"
    },
    {
     "data": {
      "image/png": "[encoded data removed]",
      "text/plain": [
       "<matplotlib.figure.Figure at 0x115376908>"
      ]
     },
     "metadata": {},
     "output_type": "display_data"
    },
    {
     "data": {
      "image/png": "[encoded data removed]",
      "text/plain": [
       "<matplotlib.figure.Figure at 0x115d55550>"
      ]
     },
     "metadata": {},
     "output_type": "display_data"
    },
    {
     "name": "stdout",
     "output_type": "stream",
     "text": [
      "time: 1.97 s\n"
     ]
    }
   ],
   "source": [
    "def get_node_degrees(g, direction=None):\n",
    "    if direction == \"in\":\n",
    "        return np.array(list(g.in_degree().values()), dtype=np.int)\n",
    "    elif direction == \"out\":\n",
    "        return np.array(list(g.out_degree().values()), dtype=np.int)\n",
    "    else:\n",
    "        return np.array(list(g.degree().values()), dtype=np.int)\n",
    "\n",
    "\n",
    "def get_pdf(node_degrees):\n",
    "    node_bincount_as_float = np.bincount(node_degrees).astype(float)\n",
    "    return node_bincount_as_float/len(node_degrees)\n",
    "\n",
    "\n",
    "def get_cdf(pdf):\n",
    "    return np.cumsum(pdf)\n",
    "\n",
    "print(\"Total number of nodes: {}\".format(len(G.nodes())))\n",
    "print(\"Total number of edges: {}\".format(len(G.edges())))\n",
    "node_degrees = get_node_degrees(G)\n",
    "print(\"Max node degree: {}\".format(np.max(node_degrees)))\n",
    "print(\"Average node degree: {}\".format(np.average(node_degrees)))\n",
    "\n",
    "print(\"\\n\\nPDF and cCDF of graph respectfully\")\n",
    "plt.loglog(get_pdf(node_degrees),\"b.\")\n",
    "plt.figure()\n",
    "plt.loglog(1-get_cdf(get_pdf(node_degrees)),\"b.\")"
   ]
  },
  {
   "cell_type": "markdown",
   "metadata": {},
   "source": [
    "#### Main Task for models (2-3)"
   ]
  },
  {
   "cell_type": "markdown",
   "metadata": {},
   "source": [
    "You are running the marketing campaign for brand new pocket device. Initially you can sign contracts with a few people to advertize your gadget among their neigbours. The more \"famous\" person you are picking the greater price appears in the contract.\n",
    "* Contract cost can be calculated as $300 \\$ \\times \\text{NN}(i)$, where $\\text{NN}(i)$ is size of the neigbourhood of the person $i$.\n",
    "* You earn $250\\$$ per each affected person\n",
    "\n",
    "Your task is to maximize your influence and maximize profit of your campaign"
   ]
  },
  {
   "cell_type": "markdown",
   "metadata": {},
   "source": [
    "Linear Threshold Model was chosed for this task. It requires definition of a treshold for each individual. Since treshold depends from personality let's randomize it throug network uniformly from 0 to 1."
   ]
  },
  {
   "cell_type": "code",
   "execution_count": 160,
   "metadata": {
    "collapsed": false
   },
   "outputs": [
    {
     "name": "stdout",
     "output_type": "stream",
     "text": [
      "time: 11.7 ms\n"
     ]
    }
   ],
   "source": [
    "theta = np.random.random_sample(n)"
   ]
  },
  {
   "cell_type": "markdown",
   "metadata": {},
   "source": [
    "Introduce function that returns influenced users after propagation, depending on the initial set of users. That's a slightly modified version from seminar. `deg` calculation is scoped-out to the global namespace to prevent it's recalculation on every iteration of greedy algorythm."
   ]
  },
  {
   "cell_type": "code",
   "execution_count": 161,
   "metadata": {
    "collapsed": false
   },
   "outputs": [
    {
     "name": "stdout",
     "output_type": "stream",
     "text": [
      "time: 14 ms\n"
     ]
    }
   ],
   "source": [
    "def InfluenceProp(A, initActive, theta, itersNum = np.inf):\n",
    "    i = 1 # iteration\n",
    "    resActive = initActive.copy()    \n",
    "    while i < itersNum:\n",
    "        i+=1\n",
    "\n",
    "        # currently inactive nodes\n",
    "        inactiveId = np.where(resActive == 0)[0]    \n",
    "        # activated nodes\n",
    "        idx = np.sum(A[np.ix_(resActive==1, resActive==0)], axis=0) / deg[resActive==0] > theta[inactiveId]\n",
    "        if np.any(idx):\n",
    "            resActive[inactiveId[idx]] = 1\n",
    "        else:\n",
    "            break\n",
    "\n",
    "    return resActive"
   ]
  },
  {
   "cell_type": "markdown",
   "metadata": {},
   "source": []
  },
  {
   "cell_type": "code",
   "execution_count": 62,
   "metadata": {
    "collapsed": true
   },
   "outputs": [],
   "source": [
    "def LenInfluenceProp(A, initActive, theta, itersNum = np.inf):\n",
    "    resultActive = InfluenceProp(A, initActive, theta, itersNum=itersNum)\n",
    "    return len(np.where(resultActive==True)[0])"
   ]
  },
  {
   "cell_type": "markdown",
   "metadata": {},
   "source": [
    "Now let's introduce a greedy algorythm realization of intial set of nodes optimization. Tip of keeping sorted list of marginal gains and recalculate only top of it on every step is used.\n",
    "\n",
    "The idea of stop is when top node gives a marginal gain 1 or 0 or ex"
   ]
  },
  {
   "cell_type": "code",
   "execution_count": 228,
   "metadata": {
    "collapsed": false
   },
   "outputs": [
    {
     "name": "stdout",
     "output_type": "stream",
     "text": [
      "time: 34.2 ms\n"
     ]
    }
   ],
   "source": [
    "def greedy(A, theta, iterStop, itersNum = np.inf, return_value = \"nodes\"):\n",
    "    n = A.shape[0]\n",
    "    InitActive = np.zeros((n,), dtype=bool)\n",
    "    marginal_gain = np.zeros((n,2), dtype=int)\n",
    "    marginal_gain[:,0] = range(n)\n",
    "    result = []\n",
    "    current_influence = 0\n",
    "    step = 1\n",
    "    while True:\n",
    "        # calc marginal gain for all nodes on first step\n",
    "        top_to_recalculate = range(n) if step == 1 else range(10) \n",
    "        for i in top_to_recalculate:\n",
    "            tempInitActive = InitActive.copy()\n",
    "            tempInitActive[marginal_gain[i,0]] = 1\n",
    "            marginal_gain[i,1] = LenInfluenceProp(A, tempInitActive, theta, itersNum=itersNum)- current_influence\n",
    "        \n",
    "        marginal_gain = marginal_gain[marginal_gain[:,1].argsort()][::-1]\n",
    "\n",
    "        \n",
    "        InitActive[marginal_gain[0,0]] = 1\n",
    "        result.append(marginal_gain[0,0])\n",
    "        \n",
    "        # speed up a little by adding influenced guys to an initial set.|\n",
    "        InitActive = InfluenceProp(A, InitActive, theta, itersNum=itersNum)\n",
    "        current_influence = len(np.where(InitActive==True)[0])\n",
    "        \n",
    "            \n",
    "        if step == iterStop or step == n or marginal_gain[0,1]==1 or marginal_gain[0,1]==0:\n",
    "            break\n",
    "\n",
    "        marginal_gain[0,1] = -1 # make sure this node will never be on top anymore\n",
    "        marginal_gain = marginal_gain[marginal_gain[:,1].argsort()][::-1]\n",
    "        \n",
    "\n",
    "        step = step +1\n",
    "\n",
    "    if return_value == \"marginal_gain\":\n",
    "        return marginal_gain\n",
    "    else:\n",
    "        return result"
   ]
  },
  {
   "cell_type": "markdown",
   "metadata": {},
   "source": [
    "The first 5 nodes, returned by greedy algorythm are giving propagation of 1078 nodes."
   ]
  },
  {
   "cell_type": "code",
   "execution_count": 260,
   "metadata": {
    "collapsed": false
   },
   "outputs": [
    {
     "name": "stdout",
     "output_type": "stream",
     "text": [
      "time: 2.17 ms\n"
     ]
    }
   ],
   "source": [
    "#idx = [2676, 11823, 23023, 379, 14612]\n",
    "idx = [11823]\n",
    "initActive = np.zeros((n,), dtype=bool)\n",
    "initActive[idx] = 1"
   ]
  },
  {
   "cell_type": "code",
   "execution_count": 261,
   "metadata": {
    "collapsed": false
   },
   "outputs": [
    {
     "name": "stdout",
     "output_type": "stream",
     "text": [
      "237\n",
      "time: 235 ms\n"
     ]
    }
   ],
   "source": [
    "resultActive = InfluenceProp(A, initActive, theta)\n",
    "print(len(np.where(resultActive==True)[0]))"
   ]
  },
  {
   "cell_type": "code",
   "execution_count": 256,
   "metadata": {
    "collapsed": false
   },
   "outputs": [
    {
     "name": "stdout",
     "output_type": "stream",
     "text": [
      "4\n",
      "4\n"
     ]
    },
    {
     "ename": "TypeError",
     "evalue": "unsupported operand type(s) for -: 'list' and 'int'",
     "output_type": "error",
     "traceback": [
      "\u001b[0;31m---------------------------------------------------------------------------\u001b[0m",
      "\u001b[0;31mTypeError\u001b[0m                                 Traceback (most recent call last)",
      "\u001b[0;32m<ipython-input-256-4d1c61e1d1a2>\u001b[0m in \u001b[0;36m<module>\u001b[0;34m()\u001b[0m\n\u001b[1;32m      1\u001b[0m \u001b[0mprint\u001b[0m\u001b[0;34m(\u001b[0m\u001b[0mlist\u001b[0m\u001b[0;34m(\u001b[0m\u001b[0mG\u001b[0m\u001b[0;34m.\u001b[0m\u001b[0mdegree\u001b[0m\u001b[0;34m(\u001b[0m\u001b[0;34m)\u001b[0m\u001b[0;34m.\u001b[0m\u001b[0mvalues\u001b[0m\u001b[0;34m(\u001b[0m\u001b[0;34m)\u001b[0m\u001b[0;34m)\u001b[0m\u001b[0;34m[\u001b[0m\u001b[0;36m11822\u001b[0m\u001b[0;34m]\u001b[0m\u001b[0;34m)\u001b[0m\u001b[0;34m\u001b[0m\u001b[0m\n\u001b[1;32m      2\u001b[0m \u001b[0mprint\u001b[0m\u001b[0;34m(\u001b[0m\u001b[0mG\u001b[0m\u001b[0;34m.\u001b[0m\u001b[0mdegree\u001b[0m\u001b[0;34m(\u001b[0m\u001b[0;34m)\u001b[0m\u001b[0;34m[\u001b[0m\u001b[0;36m11823\u001b[0m\u001b[0;34m]\u001b[0m\u001b[0;34m)\u001b[0m\u001b[0;34m\u001b[0m\u001b[0m\n\u001b[0;32m----> 3\u001b[0;31m \u001b[0mprint\u001b[0m\u001b[0;34m(\u001b[0m\u001b[0mdeg\u001b[0m\u001b[0;34m[\u001b[0m\u001b[0;34m[\u001b[0m\u001b[0;36m2676\u001b[0m\u001b[0;34m,\u001b[0m \u001b[0;36m11823\u001b[0m\u001b[0;34m,\u001b[0m \u001b[0;36m23023\u001b[0m\u001b[0;34m,\u001b[0m \u001b[0;36m379\u001b[0m\u001b[0;34m,\u001b[0m \u001b[0;36m14612\u001b[0m\u001b[0;34m]\u001b[0m\u001b[0;34m-\u001b[0m\u001b[0;36m1\u001b[0m\u001b[0;34m]\u001b[0m\u001b[0;34m)\u001b[0m\u001b[0;34m\u001b[0m\u001b[0m\n\u001b[0m",
      "\u001b[0;31mTypeError\u001b[0m: unsupported operand type(s) for -: 'list' and 'int'"
     ]
    },
    {
     "name": "stdout",
     "output_type": "stream",
     "text": [
      "time: 37.6 ms\n"
     ]
    }
   ],
   "source": [
    "print(list(G.degree().values())[11822])\n",
    "print(G.degree()[11823])\n",
    "print(deg[[2676, 11823, 23023, 379, 14612]-1])"
   ]
  },
  {
   "cell_type": "markdown",
   "metadata": {},
   "source": [
    "Greedy algorythm is correct and performance boosting tips are used, but execution still take a long time. \n",
    "My calculations shows that for 22k nodes it took a couple of days, that is doable in general.\n",
    "\n",
    "But for continue of research we need something faster. \n",
    "There is an idea to use list of nodes ordered by some centrality metric.\n",
    "Also that makes sence to try the order obtained from the very first iteration of greedy algorythm."
   ]
  },
  {
   "cell_type": "code",
   "execution_count": 233,
   "metadata": {
    "collapsed": false
   },
   "outputs": [
    {
     "name": "stdout",
     "output_type": "stream",
     "text": [
      "time: 37.4 s\n"
     ]
    }
   ],
   "source": [
    "greedy_ordered_list = greedy(A, theta,1, return_value=\"marginal_gain\")[:,0]"
   ]
  },
  {
   "cell_type": "markdown",
   "metadata": {},
   "source": [
    "Let's introduce a function that calculates our profit given by list of initial nodes we sign a contract with:"
   ]
  },
  {
   "cell_type": "code",
   "execution_count": 263,
   "metadata": {
    "collapsed": false
   },
   "outputs": [
    {
     "name": "stdout",
     "output_type": "stream",
     "text": [
      "time: 4.34 ms\n"
     ]
    }
   ],
   "source": [
    "def get_profit(init_nodes_idx):\n",
    "    cost = 300*np.sum(deg[np.array(init_nodes_idx)-1]) # -1 since that indexes starts from 0 and node names form 1\n",
    "    initActive = np.zeros((n,), dtype=bool)\n",
    "    initActive[init_nodes_idx] = 1\n",
    "    profit = 250*LenInfluenceProp(A, initActive, theta)\n",
    "    return profit-cost\n",
    "    "
   ]
  },
  {
   "cell_type": "markdown",
   "metadata": {},
   "source": [
    "Not let's build a set of pair, using N top of greedy_ordered_list and each profit"
   ]
  },
  {
   "cell_type": "code",
   "execution_count": 293,
   "metadata": {
    "collapsed": false
   },
   "outputs": [
    {
     "name": "stdout",
     "output_type": "stream",
     "text": [
      "time: 32.4 s\n"
     ]
    }
   ],
   "source": [
    "profits = []\n",
    "for i in range(1,19):\n",
    "    profits.append(get_profit(greedy_ordered_list[0:i]))"
   ]
  },
  {
   "cell_type": "code",
   "execution_count": 294,
   "metadata": {
    "collapsed": false
   },
   "outputs": [
    {
     "data": {
      "text/plain": [
       "[<matplotlib.lines.Line2D at 0x118e48518>]"
      ]
     },
     "execution_count": 294,
     "metadata": {},
     "output_type": "execute_result"
    },
    {
     "data": {
      "image/png": "[encoded data removed]",
      "text/plain": [
       "<matplotlib.figure.Figure at 0x117869d30>"
      ]
     },
     "metadata": {},
     "output_type": "display_data"
    },
    {
     "name": "stdout",
     "output_type": "stream",
     "text": [
      "time: 284 ms\n"
     ]
    }
   ],
   "source": [
    "plt.plot(profits)"
   ]
  },
  {
   "cell_type": "markdown",
   "metadata": {},
   "source": [
    "As we can see profit increases with growth of number of initial nodes. That is predictable, but the grow will stop when cost of new added node became more than gained profit. Basicly that will happen when magrinal gain of the guy will be equal or less than it's degree. Since 300>250. \n",
    "And marginal gain decreases with i according to ordering with greedy algorythm.\n",
    "Unfortunately computations still takes too long so i wasn't able to build overall plot."
   ]
  },
  {
   "cell_type": "code",
   "execution_count": 292,
   "metadata": {
    "collapsed": false
   },
   "outputs": [
    {
     "name": "stdout",
     "output_type": "stream",
     "text": [
      "But we have achieved profit of 571950.0 USD, that's pretty good=)\n",
      "time: 1.49 ms\n"
     ]
    }
   ],
   "source": [
    "print(\"But we have achieved profit of {} USD, that's pretty good=)\".format(profits[-1]))"
   ]
  },
  {
   "cell_type": "markdown",
   "metadata": {},
   "source": [
    "990 nodes brings us "
   ]
  },
  {
   "cell_type": "code",
   "execution_count": 311,
   "metadata": {
    "collapsed": false
   },
   "outputs": [
    {
     "data": {
      "text/plain": [
       "4518150.0"
      ]
     },
     "execution_count": 311,
     "metadata": {},
     "output_type": "execute_result"
    },
    {
     "name": "stdout",
     "output_type": "stream",
     "text": [
      "time: 12 s\n"
     ]
    }
   ],
   "source": [
    "get_profit(greedy_ordered_list[0:990])"
   ]
  },
  {
   "cell_type": "markdown",
   "metadata": {},
   "source": [
    "995 nodes bring us less"
   ]
  },
  {
   "cell_type": "code",
   "execution_count": 316,
   "metadata": {
    "collapsed": false
   },
   "outputs": [
    {
     "data": {
      "text/plain": [
       "4517500.0"
      ]
     },
     "execution_count": 316,
     "metadata": {},
     "output_type": "execute_result"
    },
    {
     "name": "stdout",
     "output_type": "stream",
     "text": [
      "time: 9.1 s\n"
     ]
    }
   ],
   "source": [
    "get_profit(greedy_ordered_list[0:995])"
   ]
  },
  {
   "cell_type": "markdown",
   "metadata": {},
   "source": [
    "Let's try to find exact number"
   ]
  },
  {
   "cell_type": "code",
   "execution_count": 318,
   "metadata": {
    "collapsed": false
   },
   "outputs": [
    {
     "data": {
      "text/plain": [
       "4522300.0"
      ]
     },
     "execution_count": 318,
     "metadata": {},
     "output_type": "execute_result"
    },
    {
     "name": "stdout",
     "output_type": "stream",
     "text": [
      "time: 5.5 s\n"
     ]
    }
   ],
   "source": [
    "get_profit(greedy_ordered_list[0:991])"
   ]
  },
  {
   "cell_type": "code",
   "execution_count": 317,
   "metadata": {
    "collapsed": false
   },
   "outputs": [
    {
     "data": {
      "text/plain": [
       "4522000.0"
      ]
     },
     "execution_count": 317,
     "metadata": {},
     "output_type": "execute_result"
    },
    {
     "name": "stdout",
     "output_type": "stream",
     "text": [
      "time: 6.83 s\n"
     ]
    }
   ],
   "source": [
    "get_profit(greedy_ordered_list[0:992])"
   ]
  },
  {
   "cell_type": "code",
   "execution_count": 319,
   "metadata": {
    "collapsed": false
   },
   "outputs": [
    {
     "data": {
      "text/plain": [
       "4521700.0"
      ]
     },
     "execution_count": 319,
     "metadata": {},
     "output_type": "execute_result"
    },
    {
     "name": "stdout",
     "output_type": "stream",
     "text": [
      "time: 5.61 s\n"
     ]
    }
   ],
   "source": [
    "get_profit(greedy_ordered_list[0:993])"
   ]
  },
  {
   "cell_type": "code",
   "execution_count": 320,
   "metadata": {
    "collapsed": false
   },
   "outputs": [
    {
     "data": {
      "text/plain": [
       "4521400.0"
      ]
     },
     "execution_count": 320,
     "metadata": {},
     "output_type": "execute_result"
    },
    {
     "name": "stdout",
     "output_type": "stream",
     "text": [
      "time: 6.07 s\n"
     ]
    }
   ],
   "source": [
    "get_profit(greedy_ordered_list[0:994])"
   ]
  },
  {
   "cell_type": "markdown",
   "metadata": {},
   "source": [
    "So the maximum is probably achieved at using TOP 991 nodes from the first iteration of greedy algorythm and gives us 4522300 USD."
   ]
  },
  {
   "cell_type": "markdown",
   "metadata": {},
   "source": [
    "More sophisticated and precise number can be achieved by letting greedy algorythm finish and finding exact maximum on all sorted list."
   ]
  }
 ],
 "metadata": {
  "kernelspec": {
   "display_name": "Python 3",
   "language": "python",
   "name": "python3"
  },
  "language_info": {
   "codemirror_mode": {
    "name": "ipython",
    "version": 3
   },
   "file_extension": ".py",
   "mimetype": "text/x-python",
   "name": "python",
   "nbconvert_exporter": "python",
   "pygments_lexer": "ipython3",
   "version": "3.5.1"
  }
 },
 "nbformat": 4,
 "nbformat_minor": 0
}
